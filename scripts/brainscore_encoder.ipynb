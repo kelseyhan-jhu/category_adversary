{
 "cells": [
  {
   "cell_type": "code",
   "execution_count": 2,
   "id": "6fe95a60-aaf1-42c3-b90b-16f20290dcde",
   "metadata": {},
   "outputs": [
    {
     "name": "stderr",
     "output_type": "stream",
     "text": [
      "/home/chan21/.conda/envs/bonner-lab-kelsey/lib/python3.7/site-packages/brainscore/metrics/__init__.py:39: FutureWarning: xarray subclass Score should explicitly define __slots__\n",
      "  class Score(DataAssembly):\n"
     ]
    }
   ],
   "source": [
    "# Run brainscore encoder with Object2Vec for single and all subjects\n",
    "import h5py\n",
    "import pickle\n",
    "import numpy as np\n",
    "import xarray as xr\n",
    "from brainio.fetch import get_stimulus_set\n",
    "from model_tools.brain_transformation.neural import LayerMappedModel\n",
    "from brainscore.metrics.regression import linear_regression\n",
    "from bonner.models.alexnet_imagenet import alexnet_imagenet # PytorchWrapper\n",
    "from bonner.brainscore.benchmarks.bonner2021_object2vec import load_assembly, N_SUBJECTS, extract_features\n",
    "from src.utils import listdir\n"
   ]
  },
  {
   "cell_type": "code",
   "execution_count": 3,
   "id": "78e2c11d-f12f-4aee-97bb-341fbe215b1f",
   "metadata": {},
   "outputs": [
    {
     "name": "stdout",
     "output_type": "stream",
     "text": [
      "Loading lookup from entrypoints\n",
      "Loading lookup from /home/chan21/.conda/envs/bonner-lab-kelsey/lib/python3.7/site-packages/bonner/brainscore/lookup.csv\n",
      "Loading lookup from /home/chan21/.conda/envs/bonner-lab-kelsey/lib/python3.7/site-packages/brainscore/lookup.csv\n"
     ]
    }
   ],
   "source": [
    "# Define a BrainModel\n",
    "model = LayerMappedModel(\n",
    "    identifier=\"alexnet-imagenet-features.8\",\n",
    "    activations_model=alexnet_imagenet(batch_size=256),\n",
    "    region_layer_map={None: \"features.8\"},\n",
    "    visual_degrees=None,\n",
    ")\n",
    "\n",
    "# Define ROI tuple\n",
    "rois = (\n",
    "    \"FFA\",\n",
    "    \"PPA\",\n",
    "    \"LOC\",\n",
    "    \"EBA\",\n",
    "    \"EVC\",\n",
    ")\n",
    "\n",
    "# Load Object2Vec stimuli\n",
    "stimulus_set = get_stimulus_set((\"bonner2021.object2vec-texture\"))\n",
    "\n",
    "# Extract features\n",
    "model_assembly = extract_features(model, stimulus_set)\n"
   ]
  },
  {
   "cell_type": "code",
   "execution_count": 4,
   "id": "bada5fb7-5f30-41db-8be6-7cafe21c7c3d",
   "metadata": {
    "pycharm": {
     "name": "#%%\n"
    }
   },
   "outputs": [],
   "source": [
    "# Load neural assembly for S1\n",
    "# subject = 0\n",
    "# neural_assembly = load_assembly(\n",
    "#     subject,\n",
    "#     average_reps= True,\n",
    "#     z_score=True,\n",
    "#     check_integrity=False,\n",
    "#     kwargs_filter={\n",
    "#         \"rois\": rois,\n",
    "#     }\n",
    "# )\n",
    "\n",
    "# # Concatenated neural assembly\n",
    "concatenated_neural_assembly = xr.concat(\n",
    "    [\n",
    "        load_assembly(\n",
    "        subject,\n",
    "        average_reps=True,\n",
    "        z_score=False,\n",
    "        check_integrity=False,\n",
    "        kwargs_filter={\n",
    "            \"rois\": rois\n",
    "        }\n",
    "    )\n",
    "    .drop_vars(\"cv_set\")\n",
    "     for subject in range(N_SUBJECTS)\n",
    "    ],\n",
    "    dim=\"neuroid\", # Concatenate along this dimension\n",
    ")\n",
    "\n",
    "\n",
    "\n"
   ]
  },
  {
   "cell_type": "code",
   "execution_count": 5,
   "id": "f58ba1d2-1f89-49db-ab88-90e20b66284c",
   "metadata": {
    "tags": []
   },
   "outputs": [
    {
     "data": {
      "text/plain": [
       "torch.Size([3136, 43264])"
      ]
     },
     "execution_count": 5,
     "metadata": {},
     "output_type": "execute_result"
    }
   ],
   "source": [
    "betas = {}\n",
    "for roi in rois:\n",
    "    betas[roi] = {}\n",
    "    for backend in (\"sklearn\", \"pytorch\"):\n",
    "        regression = linear_regression(backend=backend)\n",
    "        regression.fit(\n",
    "            source=model_assembly,\n",
    "            target=concatenated_neural_assembly.sel(\n",
    "                {\n",
    "                    \"neuroid\": concatenated_neural_assembly[f\"roi_{roi}\"].astype(bool).values\n",
    "                }\n",
    "            )\n",
    "        )\n",
    "    betas[roi][backend] = {\n",
    "        \"coef_\": regression._regression.coef_,\n",
    "        \"intercept_\": regression._regression.intercept_,\n",
    "        \"rank_\": regression._regression.rank_,\n",
    "        \"singular_\": regression._regression.singular_,\n",
    "    }\n",
    "    \n",
    "# check dimension\n",
    "betas['FFA']['pytorch']['coef_'].shape"
   ]
  },
  {
   "cell_type": "code",
   "execution_count": 81,
   "id": "ade003f9-e854-4c7a-8eca-74a09b4d1a6f",
   "metadata": {},
   "outputs": [
    {
     "data": {
      "application/vnd.jupyter.widget-view+json": {
       "model_id": "",
       "version_major": 2,
       "version_minor": 0
      },
      "text/plain": [
       "activations:   0%|          | 0/64 [00:00<?, ?it/s]"
      ]
     },
     "metadata": {},
     "output_type": "display_data"
    },
    {
     "data": {
      "application/vnd.jupyter.widget-view+json": {
       "model_id": "",
       "version_major": 2,
       "version_minor": 0
      },
      "text/plain": [
       "layer packaging:   0%|          | 0/1 [00:00<?, ?it/s]"
      ]
     },
     "metadata": {},
     "output_type": "display_data"
    }
   ],
   "source": [
    "# Get activations for Things face stim\n",
    "stim_path = \"../../visualsemantic/stimuli/face-things\"\n",
    "stim_images = listdir(stim_path)\n",
    "\n",
    "face_activations = alexnet_imagenet()(\n",
    "    [ci for ci in stim_images], layers=[\"features.8\"], stimuli_identifier=\"face-things-features.8\"\n",
    ")\n"
   ]
  },
  {
   "cell_type": "code",
   "execution_count": 93,
   "id": "2920dbf5-4ca7-4646-8869-1ee6c7b3f8c4",
   "metadata": {},
   "outputs": [
    {
     "name": "stdout",
     "output_type": "stream",
     "text": [
      "<KeysViewHDF5 ['pooled_composite', 'pooled_obs', 'pooled_pred', 'rois', 'subj_obs', 'subj_pred']>\n"
     ]
    },
    {
     "data": {
      "application/vnd.jupyter.widget-view+json": {
       "model_id": "",
       "version_major": 2,
       "version_minor": 0
      },
      "text/plain": [
       "activations:   0%|          | 0/64 [00:00<?, ?it/s]"
      ]
     },
     "metadata": {},
     "output_type": "display_data"
    },
    {
     "data": {
      "application/vnd.jupyter.widget-view+json": {
       "model_id": "",
       "version_major": 2,
       "version_minor": 0
      },
      "text/plain": [
       "layer packaging:   0%|          | 0/1 [00:00<?, ?it/s]"
      ]
     },
     "metadata": {},
     "output_type": "display_data"
    },
    {
     "data": {
      "application/vnd.jupyter.widget-view+json": {
       "model_id": "",
       "version_major": 2,
       "version_minor": 0
      },
      "text/plain": [
       "activations:   0%|          | 0/64 [00:00<?, ?it/s]"
      ]
     },
     "metadata": {},
     "output_type": "display_data"
    },
    {
     "data": {
      "application/vnd.jupyter.widget-view+json": {
       "model_id": "",
       "version_major": 2,
       "version_minor": 0
      },
      "text/plain": [
       "layer packaging:   0%|          | 0/1 [00:00<?, ?it/s]"
      ]
     },
     "metadata": {},
     "output_type": "display_data"
    },
    {
     "data": {
      "application/vnd.jupyter.widget-view+json": {
       "model_id": "",
       "version_major": 2,
       "version_minor": 0
      },
      "text/plain": [
       "activations:   0%|          | 0/64 [00:00<?, ?it/s]"
      ]
     },
     "metadata": {},
     "output_type": "display_data"
    },
    {
     "data": {
      "application/vnd.jupyter.widget-view+json": {
       "model_id": "",
       "version_major": 2,
       "version_minor": 0
      },
      "text/plain": [
       "layer packaging:   0%|          | 0/1 [00:00<?, ?it/s]"
      ]
     },
     "metadata": {},
     "output_type": "display_data"
    }
   ],
   "source": [
    "# Get activatinos for best Murty stim\n",
    "layers = [\"features.8\"]\n",
    "\n",
    "f = h5py.File('../../visualsemantic/stimuli/L2_data.mat','r')\n",
    "L2data = f.get('L2_data')\n",
    "print(L2data.keys())\n",
    "L2data_rois = (L2data.get('rois'))\n",
    "\n",
    "\n",
    "condition_idx = {\n",
    "                \"place\": np.concatenate((np.arange(76,101), np.arange(126,151)), axis=None),\n",
    "                \"body\": np.concatenate((np.arange(1,26), np.arange(101,126)), axis=None),\n",
    "                \"object\": np.concatenate((np.arange(51,76), np.arange(151,186)), axis=None)}\n",
    "\n",
    "conditions = list(condition_idx.keys())\n",
    "pooled_obs = np.array(L2data.get('pooled_obs'))\n",
    "pooled_pred = np.array(L2data.get('pooled_pred'))\n",
    "\n",
    "best_face = np.stack((pooled_pred[:, 0], pooled_pred[:, 1]), axis=1).mean(axis=1).argsort()[-10:][::-1]\n",
    "best_body = np.stack((pooled_pred[:, 2], pooled_pred[:, 3]), axis=1).mean(axis=1).argsort()[-10:][::-1]\n",
    "best_place = np.stack((pooled_pred[:, 4], pooled_pred[:, 5]), axis=1).mean(axis=1).argsort()[-10:][::-1]\n",
    "best_object = condition_idx[\"object\"][:10]\n",
    "\n",
    "condition_best_idx = {\n",
    "                      \"body\": best_body,\n",
    "                      \"place\": best_place,\n",
    "                     \"object\": best_object}\n",
    "\n",
    "condition_path = \"../../visualsemantic/stimuli/murty-stimuli\"\n",
    "stim_images = listdir(condition_path)\n",
    "\n",
    "for condition in conditions:\n",
    "    condition_imgs[condition] = [stim_images[idx] for idx in condition_best_idx[condition]]\n",
    "\n",
    "condition = 'place'\n",
    "scene_activations = alexnet_imagenet()(\n",
    "    [ci for ci in condition_imgs[condition]], layers=layers, stimuli_identifier=\"murty_scene_.\" + \" \".join(layers)\n",
    ")\n",
    "condition = 'body'\n",
    "body_activations = alexnet_imagenet()(\n",
    "    [ci for ci in condition_imgs[condition]], layers=layers, stimuli_identifier=\"murty_body_.\" + \" \".join(layers)\n",
    ")\n",
    "\n",
    "condition = 'object'\n",
    "object_activations = alexnet_imagenet()(\n",
    "    [ci for ci in condition_imgs[condition]], layers=layers, stimuli_identifier=\"murty_object_.\" + \" \".join(layers)\n",
    ")"
   ]
  },
  {
   "cell_type": "code",
   "execution_count": 97,
   "id": "231282ab-f814-48a7-ad0b-3ebff8058e40",
   "metadata": {},
   "outputs": [],
   "source": [
    "cond_activations = {'face': face_activations.values,\n",
    "                   'place': scene_activations.values,\n",
    "                   'body': body_activations.values,\n",
    "                   'object': object_activations.values}"
   ]
  },
  {
   "cell_type": "code",
   "execution_count": 98,
   "id": "8e48532e-7e47-4e9c-85f6-7dae21c10237",
   "metadata": {
    "tags": []
   },
   "outputs": [
    {
     "name": "stdout",
     "output_type": "stream",
     "text": [
      "FFA face tensor(0.0124)\n",
      "FFA place tensor(0.0228)\n",
      "FFA body tensor(0.0284)\n",
      "FFA object tensor(0.1164)\n",
      "PPA face tensor(-0.5015)\n",
      "PPA place tensor(0.1695)\n",
      "PPA body tensor(-0.2255)\n",
      "PPA object tensor(-0.1266)\n",
      "LOC face tensor(0.0290)\n",
      "LOC place tensor(0.1259)\n",
      "LOC body tensor(0.1259)\n",
      "LOC object tensor(0.1792)\n",
      "EBA face tensor(0.3744)\n",
      "EBA place tensor(0.2312)\n",
      "EBA body tensor(0.3787)\n",
      "EBA object tensor(0.3058)\n",
      "EVC face tensor(-0.6293)\n",
      "EVC place tensor(-0.1169)\n",
      "EVC body tensor(-0.4614)\n",
      "EVC object tensor(-0.1764)\n"
     ]
    }
   ],
   "source": [
    "conditions = list(cond_activations.keys())\n",
    "cond_predicted = {roi: {cond: [] for cond in conditions} for roi in rois}\n",
    "\n",
    "for roi in rois:\n",
    "    for condition in conditions:\n",
    "        data = cond_activations[condition]\n",
    "        content_predicted = np.matmul(data, betas[roi]['pytorch']['coef_'].T)\n",
    "        print(roi, condition, content_predicted.mean())\n",
    "        cond_predicted[roi][condition] = content_predicted\n",
    "    "
   ]
  },
  {
   "cell_type": "code",
   "execution_count": 33,
   "id": "ee31e996-5cb3-4b21-814c-f73e4e48bc24",
   "metadata": {},
   "outputs": [
    {
     "data": {
      "image/png": "[encoded data removed]",
      "text/plain": [
       "<Figure size 576x432 with 1 Axes>"
      ]
     },
     "metadata": {
      "needs_background": "light"
     },
     "output_type": "display_data"
    }
   ],
   "source": [
    "import matplotlib.pyplot as plt\n",
    "import seaborn as sns\n",
    "\n",
    "\n",
    "# Plot mean predicted activations to input images\n",
    "plt.figure(figsize=(8,6))\n",
    "plt.title(\"Mean predicted activations to content input images - \" + \"\".join(layers))\n",
    "X = np.array([0, 1, 2, 3, 4])\n",
    "plt.bar(X + 0.00,\n",
    "        [cond_predicted['FFA']['face'].mean(axis=1).mean(),\n",
    "         cond_predicted['PPA']['face'].mean(axis=1).mean(),\n",
    "         cond_predicted['LOC']['face'].mean(axis=1).mean(),\n",
    "         cond_predicted['EBA']['face'].mean(axis=1).mean(),\n",
    "         cond_predicted['EVC']['face'].mean(axis=1).mean()],\n",
    "         color='r',\n",
    "         yerr=[np.std(cond_predicted['FFA']['face'].mean(axis=1).numpy()),\n",
    "                np.std(cond_predicted['PPA']['face'].mean(axis=1).numpy()),\n",
    "                np.std(cond_predicted['LOC']['face'].mean(axis=1).numpy()),\n",
    "                np.std(cond_predicted['EBA']['face'].mean(axis=1).numpy()),\n",
    "                np.std(cond_predicted['EVC']['face'].mean(axis=1).numpy())\n",
    "         ],\n",
    "        width=0.125,\n",
    "       label='face')\n",
    "\n",
    "plt.bar(X + 0.125,\n",
    "        [cond_predicted['FFA']['place'].mean(axis=1).mean(),\n",
    "         cond_predicted['PPA']['place'].mean(axis=1).mean(),\n",
    "         cond_predicted['LOC']['place'].mean(axis=1).mean(),\n",
    "         cond_predicted['EBA']['place'].mean(axis=1).mean(),\n",
    "        cond_predicted['EVC']['place'].mean(axis=1).mean()],\n",
    "       color='b',\n",
    "        yerr=[np.std(cond_predicted['FFA']['place'].mean(axis=1).numpy()),\n",
    "                np.std(cond_predicted['PPA']['place'].mean(axis=1).numpy()),\n",
    "                np.std(cond_predicted['LOC']['place'].mean(axis=1).numpy()),\n",
    "                np.std(cond_predicted['EBA']['place'].mean(axis=1).numpy()),\n",
    "                np.std(cond_predicted['EVC']['place'].mean(axis=1).numpy())\n",
    "         ],\n",
    "       width=0.125,\n",
    "       label='place')\n",
    "\n",
    "plt.bar(X + 0.25,\n",
    "        [cond_predicted['FFA']['object'].mean(axis=1).mean(),\n",
    "         cond_predicted['PPA']['object'].mean(axis=1).mean(),\n",
    "         cond_predicted['LOC']['object'].mean(axis=1).mean(),\n",
    "         cond_predicted['EBA']['object'].mean(axis=1).mean(),\n",
    "         cond_predicted['EVC']['object'].mean(axis=1).mean()\n",
    "        ],\n",
    "       color='g',\n",
    "        yerr=[np.std(cond_predicted['FFA']['object'].mean(axis=1).numpy()),\n",
    "                np.std(cond_predicted['PPA']['object'].mean(axis=1).numpy()),\n",
    "                np.std(cond_predicted['LOC']['object'].mean(axis=1).numpy()),\n",
    "                np.std(cond_predicted['EBA']['object'].mean(axis=1).numpy()),\n",
    "                np.std(cond_predicted['EVC']['object'].mean(axis=1).numpy())\n",
    "         ],\n",
    "       width=0.125,\n",
    "       label='object')\n",
    "\n",
    "plt.bar(X + 0.375,\n",
    "        [cond_predicted['FFA']['body'].mean(axis=1).mean(),\n",
    "         cond_predicted['PPA']['body'].mean(axis=1).mean(),\n",
    "         cond_predicted['LOC']['body'].mean(axis=1).mean(),\n",
    "         cond_predicted['EBA']['body'].mean(axis=1).mean(),\n",
    "        cond_predicted['EVC']['body'].mean(axis=1).mean()],\n",
    "       color='y',\n",
    "        yerr=[np.std(cond_predicted['FFA']['body'].mean(axis=1).numpy()),\n",
    "                np.std(cond_predicted['PPA']['body'].mean(axis=1).numpy()),\n",
    "                np.std(cond_predicted['LOC']['body'].mean(axis=1).numpy()),\n",
    "                np.std(cond_predicted['EBA']['body'].mean(axis=1).numpy()),\n",
    "                np.std(cond_predicted['EVC']['body'].mean(axis=1).numpy())\n",
    "         ],\n",
    "       width=0.125,\n",
    "       label='body')\n",
    "\n",
    "plt.xticks(X+0.125, ['FFA', 'PPA', 'LOC', 'EBA', 'EVC'])\n",
    "_ = plt.legend()\n",
    "\n",
    "#plt.savefig(\"/home/chan21/projects/visualsemantic/results/encbaselineaverage_\" + layers[0] + \".png\")\n",
    "\n",
    "# for roi in rois:\n",
    "#     plt.figure()\n",
    "#     plt.title(roi + \" \" + \"\".join(layers))\n",
    "#     sns.distplot(cond_predicted[roi]['face'], hist=False, kde=True, \n",
    "#                  color = 'r',\n",
    "#                  kde_kws = {'linewidth': 3},\n",
    "#                 label = \"face\")\n",
    "#     sns.distplot(cond_predicted[roi]['place'], hist=False, kde=True, \n",
    "#              color = 'b',\n",
    "#              kde_kws = {'linewidth': 3},\n",
    "#             label = \"scene\")\n",
    "#     sns.distplot(cond_predicted[roi]['object'], hist=False, kde=True, \n",
    "#                  color = 'g',\n",
    "#                  kde_kws = {'linewidth': 3},\n",
    "#                 label = \"object\")\n",
    "#     sns.distplot(cond_predicted[roi]['body'], hist=False, kde=True, \n",
    "#              color = 'y',\n",
    "#              kde_kws = {'linewidth': 3},\n",
    "#             label = \"body\")\n",
    "#     _ = plt.legend()\n",
    "    "
   ]
  },
  {
   "cell_type": "code",
   "execution_count": 9,
   "id": "8d72f8d3-a533-4dfc-a660-8b782216dbbb",
   "metadata": {},
   "outputs": [],
   "source": [
    "# Get activations for classic-Konkle stim\n",
    "\n",
    "layers = [\"features.8\"]\n",
    "conditions = ['bodies', 'buildings', 'cats', 'chairs', 'faces', 'hammers', 'phones']\n",
    "condition_imgs = {cond: [] for cond in conditions}\n",
    "condition_path = \"../../visualsemantic/stimuli/classic-konkle\"\n",
    "stim_images = listdir(condition_path)\n",
    "\n",
    "for condition in conditions:\n",
    "    condition_imgs[condition] = [stim for stim in stim_images if condition in stim]\n",
    "\n",
    "    \n",
    "cond_activations = {cond: [] for cond in conditions}\n",
    "for condition in conditions:\n",
    "    cond_activations[condition] = alexnet_imagenet()(\n",
    "    [ci for ci in condition_imgs[condition]], layers=layers, stimuli_identifier=\"classic_konkle_\" + condition + \".\" + \" \".join(layers)\n",
    "    )"
   ]
  },
  {
   "cell_type": "code",
   "execution_count": 114,
   "id": "d5806eeb-bc8b-4476-a6da-89ae8e18b420",
   "metadata": {},
   "outputs": [
    {
     "name": "stdout",
     "output_type": "stream",
     "text": [
      "FFA bodies tensor(-0.0568)\n",
      "FFA buildings tensor(-0.0795)\n",
      "FFA cats tensor(-0.0955)\n",
      "FFA chairs tensor(-0.0606)\n",
      "FFA faces tensor(-0.0587)\n",
      "FFA hammers tensor(-0.0829)\n",
      "FFA phones tensor(-0.0934)\n",
      "PPA bodies tensor(0.0212)\n",
      "PPA buildings tensor(0.0556)\n",
      "PPA cats tensor(0.0210)\n",
      "PPA chairs tensor(0.0449)\n",
      "PPA faces tensor(-0.0384)\n",
      "PPA hammers tensor(-0.0865)\n",
      "PPA phones tensor(-0.0618)\n",
      "LOC bodies tensor(0.0466)\n",
      "LOC buildings tensor(0.0064)\n",
      "LOC cats tensor(-0.0273)\n",
      "LOC chairs tensor(0.0645)\n",
      "LOC faces tensor(0.0197)\n",
      "LOC hammers tensor(0.0083)\n",
      "LOC phones tensor(-0.0356)\n",
      "EBA bodies tensor(0.1254)\n",
      "EBA buildings tensor(0.0580)\n",
      "EBA cats tensor(0.0437)\n",
      "EBA chairs tensor(0.1357)\n",
      "EBA faces tensor(0.1056)\n",
      "EBA hammers tensor(0.1152)\n",
      "EBA phones tensor(0.0278)\n",
      "EVC bodies tensor(-0.1107)\n",
      "EVC buildings tensor(-0.0786)\n",
      "EVC cats tensor(-0.0855)\n",
      "EVC chairs tensor(-0.1101)\n",
      "EVC faces tensor(-0.1271)\n",
      "EVC hammers tensor(-0.1547)\n",
      "EVC phones tensor(-0.1071)\n"
     ]
    }
   ],
   "source": [
    "cond_predicted = {roi: {cond: [] for cond in conditions} for roi in rois}\n",
    "\n",
    "for roi in rois:\n",
    "    for condition in conditions:\n",
    "        data = cond_activations[condition]\n",
    "        content_predicted = np.matmul(data, betas[roi]['pytorch']['coef_'].T)\n",
    "        print(roi, condition, content_predicted.mean())\n",
    "        cond_predicted[roi][condition] = content_predicted\n",
    "    "
   ]
  },
  {
   "cell_type": "code",
   "execution_count": 36,
   "id": "a89cd47c-6ddc-4376-becd-b1bc8508e89e",
   "metadata": {},
   "outputs": [
    {
     "data": {
      "image/png": "[encoded data removed]",
      "text/plain": [
       "<Figure size 576x432 with 1 Axes>"
      ]
     },
     "metadata": {
      "needs_background": "light"
     },
     "output_type": "display_data"
    }
   ],
   "source": [
    "with open(\"../results/0415_konkle/predicted_features.8.pkl\", 'rb') as pickle_file:\n",
    "    cond_predicted = pickle.load(pickle_file)\n",
    "    \n",
    "# Plot mean predicted activations to input images\n",
    "plt.figure(figsize=(8,6))\n",
    "plt.title(\"Mean predicted activations to content input images - \" + \"\".join(layers))\n",
    "X = np.array([0, 1, 2, 3, 4])\n",
    "plt.bar(X + 0.00,\n",
    "        [cond_predicted['FFA']['faces'].mean(axis=1).mean(),\n",
    "         cond_predicted['PPA']['faces'].mean(axis=1).mean(),\n",
    "         cond_predicted['LOC']['faces'].mean(axis=1).mean(),\n",
    "         cond_predicted['EBA']['faces'].mean(axis=1).mean(),\n",
    "         cond_predicted['EVC']['faces'].mean(axis=1).mean()],\n",
    "       color='r',\n",
    "       yerr=\n",
    "        [np.std(cond_predicted['FFA']['faces'].mean(axis=1).numpy()),\n",
    "         np.std(cond_predicted['FFA']['faces'].mean(axis=1).numpy()),\n",
    "         np.std(cond_predicted['FFA']['faces'].mean(axis=1).numpy()),\n",
    "         np.std(cond_predicted['FFA']['faces'].mean(axis=1).numpy()),\n",
    "         np.std(cond_predicted['FFA']['faces'].mean(axis=1).numpy())],\n",
    "        width=0.1,\n",
    "       label='face')\n",
    "\n",
    "plt.bar(X + 0.1,\n",
    "        [cond_predicted['FFA']['buildings'].mean(axis=1).mean(),\n",
    "         cond_predicted['PPA']['buildings'].mean(axis=1).mean(),\n",
    "         cond_predicted['LOC']['buildings'].mean(axis=1).mean(),\n",
    "         cond_predicted['EBA']['buildings'].mean(axis=1).mean(),\n",
    "        cond_predicted['EVC']['buildings'].mean(axis=1).mean()],\n",
    "        yerr=\n",
    "        [np.std(cond_predicted['FFA']['buildings'].mean(axis=1).numpy()),\n",
    "         np.std(cond_predicted['FFA']['buildings'].mean(axis=1).numpy()),\n",
    "         np.std(cond_predicted['FFA']['buildings'].mean(axis=1).numpy()),\n",
    "         np.std(cond_predicted['FFA']['buildings'].mean(axis=1).numpy()),\n",
    "         np.std(cond_predicted['FFA']['buildings'].mean(axis=1).numpy())],\n",
    "       color='b',\n",
    "       width=0.1,\n",
    "       label='buildings')\n",
    "\n",
    "plt.bar(X + 0.2,\n",
    "        [cond_predicted['FFA']['cats'].mean(axis=1).mean(),\n",
    "         cond_predicted['PPA']['cats'].mean(axis=1).mean(),\n",
    "         cond_predicted['LOC']['cats'].mean(axis=1).mean(),\n",
    "         cond_predicted['EBA']['cats'].mean(axis=1).mean(),\n",
    "         cond_predicted['EVC']['cats'].mean(axis=1).mean()\n",
    "        ],\n",
    "        yerr=\n",
    "        [np.std(cond_predicted['FFA']['cats'].mean(axis=1).numpy()),\n",
    "         np.std(cond_predicted['FFA']['cats'].mean(axis=1).numpy()),\n",
    "         np.std(cond_predicted['FFA']['cats'].mean(axis=1).numpy()),\n",
    "         np.std(cond_predicted['FFA']['cats'].mean(axis=1).numpy()),\n",
    "         np.std(cond_predicted['FFA']['cats'].mean(axis=1).numpy())],\n",
    "       color='g',\n",
    "       width=0.1,\n",
    "       label='cats')\n",
    "\n",
    "plt.bar(X + 0.3,\n",
    "        [cond_predicted['FFA']['bodies'].mean(axis=1).mean(),\n",
    "         cond_predicted['PPA']['bodies'].mean(axis=1).mean(),\n",
    "         cond_predicted['LOC']['bodies'].mean(axis=1).mean(),\n",
    "         cond_predicted['EBA']['bodies'].mean(axis=1).mean(),\n",
    "        cond_predicted['EVC']['bodies'].mean(axis=1).mean()],\n",
    "        yerr=\n",
    "        [np.std(cond_predicted['FFA']['bodies'].mean(axis=1).numpy()),\n",
    "         np.std(cond_predicted['FFA']['bodies'].mean(axis=1).numpy()),\n",
    "         np.std(cond_predicted['FFA']['bodies'].mean(axis=1).numpy()),\n",
    "         np.std(cond_predicted['FFA']['bodies'].mean(axis=1).numpy()),\n",
    "         np.std(cond_predicted['FFA']['bodies'].mean(axis=1).numpy())],\n",
    "       color='y',\n",
    "       width=0.1,\n",
    "       label='bodies')\n",
    "\n",
    "plt.bar(X + 0.4,\n",
    "        [cond_predicted['FFA']['chairs'].mean(axis=1).mean(),\n",
    "         cond_predicted['PPA']['chairs'].mean(axis=1).mean(),\n",
    "         cond_predicted['LOC']['chairs'].mean(axis=1).mean(),\n",
    "         cond_predicted['EBA']['chairs'].mean(axis=1).mean(),\n",
    "        cond_predicted['EVC']['chairs'].mean(axis=1).mean()],\n",
    "        yerr=\n",
    "        [np.std(cond_predicted['FFA']['chairs'].mean(axis=1).numpy()),\n",
    "         np.std(cond_predicted['FFA']['chairs'].mean(axis=1).numpy()),\n",
    "         np.std(cond_predicted['FFA']['chairs'].mean(axis=1).numpy()),\n",
    "         np.std(cond_predicted['FFA']['chairs'].mean(axis=1).numpy()),\n",
    "         np.std(cond_predicted['FFA']['chairs'].mean(axis=1).numpy())],\n",
    "       color='#EEE8CD',\n",
    "       width=0.1,\n",
    "       label='chairs')\n",
    "\n",
    "plt.bar(X + 0.5,\n",
    "        [cond_predicted['FFA']['hammers'].mean(axis=1).mean(),\n",
    "         cond_predicted['PPA']['hammers'].mean(axis=1).mean(),\n",
    "         cond_predicted['LOC']['hammers'].mean(axis=1).mean(),\n",
    "         cond_predicted['EBA']['hammers'].mean(axis=1).mean(),\n",
    "        cond_predicted['EVC']['hammers'].mean(axis=1).mean()],\n",
    "        yerr=\n",
    "        [np.std(cond_predicted['FFA']['hammers'].mean(axis=1).numpy()),\n",
    "         np.std(cond_predicted['FFA']['hammers'].mean(axis=1).numpy()),\n",
    "         np.std(cond_predicted['FFA']['hammers'].mean(axis=1).numpy()),\n",
    "         np.std(cond_predicted['FFA']['hammers'].mean(axis=1).numpy()),\n",
    "         np.std(cond_predicted['FFA']['hammers'].mean(axis=1).numpy())],\n",
    "       color='#8A2BE2',\n",
    "       width=0.1,\n",
    "       label='hammers')\n",
    "\n",
    "plt.bar(X + 0.6,\n",
    "        [cond_predicted['FFA']['phones'].mean(axis=1).mean(),\n",
    "         cond_predicted['PPA']['phones'].mean(axis=1).mean(),\n",
    "         cond_predicted['LOC']['phones'].mean(axis=1).mean(),\n",
    "         cond_predicted['EBA']['phones'].mean(axis=1).mean(),\n",
    "        cond_predicted['EVC']['phones'].mean(axis=1).mean()],\n",
    "        yerr=\n",
    "        [np.std(cond_predicted['FFA']['phones'].mean(axis=1).numpy()),\n",
    "         np.std(cond_predicted['FFA']['phones'].mean(axis=1).numpy()),\n",
    "         np.std(cond_predicted['FFA']['phones'].mean(axis=1).numpy()),\n",
    "         np.std(cond_predicted['FFA']['phones'].mean(axis=1).numpy()),\n",
    "         np.std(cond_predicted['FFA']['phones'].mean(axis=1).numpy())],\n",
    "       color='#8A3324',\n",
    "       width=0.1,\n",
    "       label='phones')\n",
    "\n",
    "plt.xticks(X+0.1, ['FFA', 'PPA', 'LOC', 'EBA', 'EVC'])\n",
    "_ = plt.legend()\n",
    "\n",
    "plt.savefig(\"/home/chan21/projects/visualsemantic/results/encbaselineaverage_\" + layers[0] + \".png\")\n"
   ]
  },
  {
   "cell_type": "code",
   "execution_count": 37,
   "id": "b54cf2c2-e742-4e6a-add7-51799d4b1bbb",
   "metadata": {},
   "outputs": [
    {
     "name": "stdout",
     "output_type": "stream",
     "text": [
      "FFA 2-1-elevator tensor(0.2525)\n",
      "FFA 2-3-restroom tensor(-0.0196)\n",
      "FFA 3-1-garage tensor(-0.1604)\n",
      "FFA 3-3-japaneseroom tensor(0.0508)\n",
      "FFA 4-1-loft tensor(-0.0214)\n",
      "FFA 4-3-lobby tensor(-0.1105)\n",
      "PPA 2-1-elevator tensor(0.3529)\n",
      "PPA 2-3-restroom tensor(0.0638)\n",
      "PPA 3-1-garage tensor(0.0914)\n",
      "PPA 3-3-japaneseroom tensor(0.3066)\n",
      "PPA 4-1-loft tensor(0.2163)\n",
      "PPA 4-3-lobby tensor(0.2898)\n",
      "LOC 2-1-elevator tensor(0.2729)\n",
      "LOC 2-3-restroom tensor(-0.0171)\n",
      "LOC 3-1-garage tensor(-0.1198)\n",
      "LOC 3-3-japaneseroom tensor(-0.0025)\n",
      "LOC 4-1-loft tensor(0.0280)\n",
      "LOC 4-3-lobby tensor(-0.0660)\n",
      "EBA 2-1-elevator tensor(0.4418)\n",
      "EBA 2-3-restroom tensor(0.1829)\n",
      "EBA 3-1-garage tensor(0.0780)\n",
      "EBA 3-3-japaneseroom tensor(0.2224)\n",
      "EBA 4-1-loft tensor(0.1724)\n",
      "EBA 4-3-lobby tensor(-0.0161)\n",
      "EVC 2-1-elevator tensor(-0.4138)\n",
      "EVC 2-3-restroom tensor(-0.4821)\n",
      "EVC 3-1-garage tensor(-0.3892)\n",
      "EVC 3-3-japaneseroom tensor(-0.6247)\n",
      "EVC 4-1-loft tensor(-0.2695)\n",
      "EVC 4-3-lobby tensor(-0.0827)\n"
     ]
    }
   ],
   "source": [
    "# Konkle scenes by size and clutterness\n",
    "\n",
    "konkscene_conditions = [\"2-1-elevator\", \"2-3-restroom\", \"3-1-garage\", \"3-3-japaneseroom\", \"4-1-loft\", \"4-3-lobby\"]\n",
    "\n",
    "for k in konkscene_conditions:\n",
    "    conditions.append(k)\n",
    "konkscene_path =  \"../../visualsemantic/stimuli/scene-konkle\"\n",
    "konkscenestim_images = listdir(konkscene_path)\n",
    "\n",
    "for k in konkscene_conditions:\n",
    "    condition_imgs[k] = [stim for stim in konkscenestim_images if k in stim]\n",
    "    \n",
    "for k in konkscene_conditions:\n",
    "    cond_activations[k] = alexnet_imagenet()(\n",
    "    [ci for ci in condition_imgs[k]], layers=layers, stimuli_identifier=\"scene_konkle_\" + k + \".\" + \" \".join(layers)\n",
    "    )\n",
    "\n",
    "for roi in rois:\n",
    "    for k in konkscene_conditions:\n",
    "        data = cond_activations[k].values\n",
    "        content_predicted = np.matmul(data, betas[roi]['pytorch']['coef_'].T)\n",
    "        print(roi, k, content_predicted.mean())\n",
    "        cond_predicted[roi][k] = content_predicted\n",
    "    "
   ]
  },
  {
   "cell_type": "code",
   "execution_count": 10,
   "id": "dc194307-cadb-4b90-b104-2d1b14b86504",
   "metadata": {},
   "outputs": [
    {
     "name": "stdout",
     "output_type": "stream",
     "text": [
      "FFA 2-1-elevator tensor(-0.0787)\n",
      "FFA 4-1-loft tensor(-0.0243)\n",
      "FFA 4-3-lobby tensor(-0.1041)\n",
      "FFA 3-3-japaneseroom tensor(-0.0315)\n",
      "PPA 2-1-elevator tensor(-0.1719)\n",
      "PPA 4-1-loft tensor(-0.2647)\n",
      "PPA 4-3-lobby tensor(-0.2217)\n",
      "PPA 3-3-japaneseroom tensor(-0.1065)\n",
      "LOC 2-1-elevator tensor(0.0121)\n",
      "LOC 4-1-loft tensor(0.0302)\n",
      "LOC 4-3-lobby tensor(0.0214)\n",
      "LOC 3-3-japaneseroom tensor(0.0048)\n",
      "EBA 2-1-elevator tensor(0.1114)\n",
      "EBA 4-1-loft tensor(0.1063)\n",
      "EBA 4-3-lobby tensor(0.1193)\n",
      "EBA 3-3-japaneseroom tensor(0.0385)\n",
      "EVC 2-1-elevator tensor(-0.1748)\n",
      "EVC 4-1-loft tensor(-0.0701)\n",
      "EVC 4-3-lobby tensor(-0.0982)\n",
      "EVC 3-3-japaneseroom tensor(-0.0515)\n"
     ]
    }
   ],
   "source": [
    "# Get activations for Konkle scenes attacked with Things face\n",
    "stim_path = \"../../visualsemantic/results/adversary/0415/\"\n",
    "stim_images = listdir(stim_path)\n",
    "for stim in stim_images:\n",
    "    if \".pt\" in stim:\n",
    "        stim_images.remove(stim)\n",
    "\n",
    "scene_konkle_conditions = [\"2-1-elevator\", \"4-1-loft\", \"4-3-lobby\", \"3-3-japaneseroom\"]\n",
    "attacked_activations = {k: [] for k in scene_konkle_conditions}\n",
    "for k in scene_konkle_conditions:\n",
    "    attacked_activations[k] = alexnet_imagenet()(\n",
    "        [ci for ci in stim_images if k in ci], layers=[\"features.8\"], stimuli_identifier=\"face_\" + k + \"-features.8\"\n",
    "    )\n",
    "    \n",
    "# Get predictions\n",
    "attacked_predicted = {roi: {cond: [] for cond in scene_konkle_conditions} for roi in rois}\n",
    "for roi in rois:\n",
    "    for k in scene_konkle_conditions:\n",
    "        data = attacked_activations[k].values\n",
    "        content_predicted = np.matmul(data, betas[roi]['pytorch']['coef_'].T)\n",
    "        print(roi, k, content_predicted.mean())\n",
    "        attacked_predicted[roi][k] = content_predicted"
   ]
  },
  {
   "cell_type": "code",
   "execution_count": 42,
   "id": "3a37d579-823a-49b4-ada5-1d3be4d7c1a5",
   "metadata": {},
   "outputs": [
    {
     "data": {
      "image/png": "[encoded data removed]",
      "text/plain": [
       "<Figure size 1296x720 with 1 Axes>"
      ]
     },
     "metadata": {
      "needs_background": "light"
     },
     "output_type": "display_data"
    }
   ],
   "source": [
    "from matplotlib import cm\n",
    "\n",
    "# Plot mean predicted activations to input images\n",
    "\n",
    "num_colors = len(conditions)\n",
    "colors = cm.rainbow(np.linspace(0,1,num_colors))\n",
    "\n",
    "plt.figure(figsize=(18,10))\n",
    "plt.title(\"Mean predicted activations to content input images - \" + \"\".join(layers))\n",
    "X = np.arange(5)\n",
    "\n",
    "for i in range(len(conditions)):\n",
    "    plt.bar(X + 0.05*i,\n",
    "            [cond_predicted['FFA'][conditions[i]].mean(axis=1).mean(),\n",
    "             cond_predicted['PPA'][conditions[i]].mean(axis=1).mean(),\n",
    "             cond_predicted['LOC'][conditions[i]].mean(axis=1).mean(),\n",
    "             cond_predicted['EBA'][conditions[i]].mean(axis=1).mean(),\n",
    "             cond_predicted['EVC'][conditions[i]].mean(axis=1).mean()],\n",
    "           width=0.05,\n",
    "            yerr=[\n",
    "                np.std(cond_predicted['FFA'][conditions[i]].mean(axis=1).numpy()),\n",
    "                np.std(cond_predicted['PPA'][conditions[i]].mean(axis=1).numpy()),\n",
    "                np.std(cond_predicted['LOC'][conditions[i]].mean(axis=1).numpy()),\n",
    "                np.std(cond_predicted['EBA'][conditions[i]].mean(axis=1).numpy()),\n",
    "                np.std(cond_predicted['EVC'][conditions[i]].mean(axis=1).numpy())],\n",
    "           color=colors[i],\n",
    "           label=conditions[i])\n",
    "\n",
    "plt.xticks(X, ['FFA', 'PPA', 'LOC', 'EBA', 'EVC'])\n",
    "_ = plt.legend()\n",
    "\n",
    "#plt.savefig(\"/home/chan21/projects/visualsemantic/results/encbaselineaverage_\" + layers[0] + \".png\")\n"
   ]
  },
  {
   "cell_type": "code",
   "execution_count": 43,
   "id": "94fff346-7d4f-4f7e-a738-10baaa314696",
   "metadata": {},
   "outputs": [
    {
     "data": {
      "application/vnd.jupyter.widget-view+json": {
       "model_id": "",
       "version_major": 2,
       "version_minor": 0
      },
      "text/plain": [
       "activations:   0%|          | 0/64 [00:00<?, ?it/s]"
      ]
     },
     "metadata": {},
     "output_type": "display_data"
    },
    {
     "data": {
      "application/vnd.jupyter.widget-view+json": {
       "model_id": "",
       "version_major": 2,
       "version_minor": 0
      },
      "text/plain": [
       "layer packaging:   0%|          | 0/1 [00:00<?, ?it/s]"
      ]
     },
     "metadata": {},
     "output_type": "display_data"
    },
    {
     "name": "stdout",
     "output_type": "stream",
     "text": [
      "FFA buildings tensor(-0.0690)\n",
      "PPA buildings tensor(0.0083)\n",
      "LOC buildings tensor(0.0109)\n",
      "EBA buildings tensor(0.0373)\n",
      "EVC buildings tensor(0.0193)\n"
     ]
    }
   ],
   "source": [
    "# Get activations for Konkle classic attacked with Things face\n",
    "stim_path = \"../../visualsemantic/results/adversary/\"\n",
    "stim_images = listdir(stim_path)\n",
    "for stim in stim_images:\n",
    "    if \".pt\" in stim:\n",
    "        stim_images.remove(stim)\n",
    "\n",
    "classic_konkle_conditions = [\"buildings\"]\n",
    "classic_attacked_activations = {k: [] for k in classic_konkle_conditions}\n",
    "for k in classic_konkle_conditions:\n",
    "    classic_attacked_activations[k] = alexnet_imagenet()(\n",
    "        [ci for ci in stim_images if k in ci], layers=[\"features.8\"], stimuli_identifier=\"face_\" + k + \"-features.8\"\n",
    "    )\n",
    "    \n",
    "# Get predictions\n",
    "classic_attacked_predicted = {roi: {cond: [] for cond in classic_konkle_conditions} for roi in rois}\n",
    "for roi in rois:\n",
    "    for k in classic_konkle_conditions:\n",
    "        data = classic_attacked_activations[k].values\n",
    "        content_predicted = np.matmul(data, betas[roi]['pytorch']['coef_'].T)\n",
    "        print(roi, k, content_predicted.mean())\n",
    "        classic_attacked_predicted[roi][k] = content_predicted"
   ]
  },
  {
   "cell_type": "code",
   "execution_count": 46,
   "id": "974d2b1d-55eb-4f01-b5c9-1f4dabaa6cff",
   "metadata": {},
   "outputs": [],
   "source": [
    "conditions = [              'bodies',\n",
    " 'buildings',\n",
    " 'cats',\n",
    " 'chairs',\n",
    " 'faces',\n",
    " 'hammers',\n",
    " 'phones']"
   ]
  },
  {
   "cell_type": "code",
   "execution_count": 51,
   "id": "66927891-3404-4f33-8e47-9069b8151c19",
   "metadata": {},
   "outputs": [
    {
     "data": {
      "image/png": "[encoded data removed]",
      "text/plain": [
       "<Figure size 1296x720 with 1 Axes>"
      ]
     },
     "metadata": {
      "needs_background": "light"
     },
     "output_type": "display_data"
    }
   ],
   "source": [
    "from matplotlib import cm\n",
    "# Plot mean predicted activations to input images\n",
    "\n",
    "num_colors = len(conditions)+1\n",
    "colors = cm.rainbow(np.linspace(0,1,num_colors))\n",
    "\n",
    "plt.figure(figsize=(18,10))\n",
    "plt.title(\"Mean predicted activations to content input images - \" + \"\".join(layers))\n",
    "X = np.arange(5)\n",
    "\n",
    "plt.bar(X + 0.0,\n",
    "            [classic_attacked_predicted['FFA']['buildings'].mean(axis=1).mean(),\n",
    "             classic_attacked_predicted['PPA']['buildings'].mean(axis=1).mean(),\n",
    "             classic_attacked_predicted['LOC']['buildings'].mean(axis=1).mean(),\n",
    "             classic_attacked_predicted['EBA']['buildings'].mean(axis=1).mean(),\n",
    "             classic_attacked_predicted['EVC']['buildings'].mean(axis=1).mean()],\n",
    "           width=0.05,\n",
    "            yerr=[\n",
    "                np.std(classic_attacked_predicted['FFA']['buildings'].mean(axis=1).numpy()),\n",
    "                np.std(classic_attacked_predicted['PPA']['buildings'].mean(axis=1).numpy()),\n",
    "                np.std(classic_attacked_predicted['LOC']['buildings'].mean(axis=1).numpy()),\n",
    "                np.std(classic_attacked_predicted['EBA']['buildings'].mean(axis=1).numpy()),\n",
    "                np.std(classic_attacked_predicted['EVC']['buildings'].mean(axis=1).numpy())],\n",
    "           color=colors[-1],\n",
    "           label=\"buildings-attacked\")\n",
    "\n",
    "for i in range(len(conditions)):\n",
    "    plt.bar(X + 0.05+0.05*i,\n",
    "            [cond_predicted['FFA'][conditions[i]].mean(axis=1).mean(),\n",
    "             cond_predicted['PPA'][conditions[i]].mean(axis=1).mean(),\n",
    "             cond_predicted['LOC'][conditions[i]].mean(axis=1).mean(),\n",
    "             cond_predicted['EBA'][conditions[i]].mean(axis=1).mean(),\n",
    "             cond_predicted['EVC'][conditions[i]].mean(axis=1).mean()],\n",
    "           width=0.05,\n",
    "            yerr=[\n",
    "                np.std(cond_predicted['FFA'][conditions[i]].mean(axis=1).numpy()),\n",
    "                np.std(cond_predicted['PPA'][conditions[i]].mean(axis=1).numpy()),\n",
    "                np.std(cond_predicted['LOC'][conditions[i]].mean(axis=1).numpy()),\n",
    "                np.std(cond_predicted['EBA'][conditions[i]].mean(axis=1).numpy()),\n",
    "                np.std(cond_predicted['EVC'][conditions[i]].mean(axis=1).numpy())],\n",
    "           color=colors[i],\n",
    "           label=conditions[i])\n",
    "\n",
    "plt.xticks(X, ['FFA', 'PPA', 'LOC', 'EBA', 'EVC'])\n",
    "_ = plt.legend()\n",
    "\n",
    "#plt.savefig(\"/home/chan21/projects/visualsemantic/results/encbaselineaverage_\" + layers[0] + \".png\")\n"
   ]
  },
  {
   "cell_type": "code",
   "execution_count": 74,
   "id": "7bb8602a-bf4d-4c76-b45e-1c0dbd1ef93e",
   "metadata": {},
   "outputs": [],
   "source": [
    "# MIN_R = 0.1841\n",
    "\n",
    "# neural_assembly_splitR = neural_assembly.isel({\"neuroid\": neural_assembly[\"splitR\"] >= MIN_R})\n",
    "\n",
    "# neural_assembly_splitR_sorted = neural_assembly_splitR.sortby(neural_assembly_splitR[\"contrast_scrambled\"])"
   ]
  }
 ],
 "metadata": {
  "kernelspec": {
   "display_name": "bonner-lab-kelsey",
   "language": "python",
   "name": "bonner-lab-kelsey"
  },
  "language_info": {
   "codemirror_mode": {
    "name": "ipython",
    "version": 3
   },
   "file_extension": ".py",
   "mimetype": "text/x-python",
   "name": "python",
   "nbconvert_exporter": "python",
   "pygments_lexer": "ipython3",
   "version": "3.7.11"
  }
 },
 "nbformat": 4,
 "nbformat_minor": 5
}
